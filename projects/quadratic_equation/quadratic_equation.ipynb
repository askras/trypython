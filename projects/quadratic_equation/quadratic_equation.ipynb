{
 "cells": [
  {
   "cell_type": "markdown",
   "id": "d537edd8",
   "metadata": {},
   "source": [
    "### The quadratic equation"
   ]
  },
  {
   "cell_type": "markdown",
   "id": "64e2184d",
   "metadata": {},
   "source": [
    "A quadratic equation is an algebraic equation of the second degree having the form $a x^2 + b x + c = 0$, in which\n",
    "$x$ is unknown, and the coefficients $a$, $b$, $c$ are real or complex numbers, and $a\\neq 0$.\n",
    "\n",
    "To solve a quadratic equation, it is necessary to calculate its discriminant $D = b^2 - 4 a c$.\n",
    "Further , the roots can be obtained by the formulas:\n",
    "\n",
    "$$x_{1}=\\frac{-b-\\sqrt{D}}{2a}, \\;\\; x_{2}=\\frac{-b+\\sqrt{D}}{2a}.$$\n",
    "\n",
    "Depending on the sign of the discriminant, three possible cases arise.\n",
    "\n",
    "|Condition |$D > 0$ |$D = 0$ |$D < 0$ |\n",
    "|:---:|:---:|:---:|:---:|\n",
    "|Number of roots |Two real roots |One real root of multiplicity 2 (two equal roots)| Two complex roots|\n",
    "\n",
    "Note that the above solution method is universal, but not the only one."
   ]
  },
  {
   "cell_type": "code",
   "execution_count": 1,
   "id": "bff55a50",
   "metadata": {},
   "outputs": [],
   "source": [
    "# %load -y -n -r 14:16 quadratic_equation.py\n",
    "import cmath\n",
    "import math"
   ]
  },
  {
   "cell_type": "code",
   "execution_count": 2,
   "id": "04bfa1fe",
   "metadata": {},
   "outputs": [],
   "source": [
    "# %load -y -n -s quadratic_equation quadratic_equation.py\n",
    "def quadratic_equation(\n",
    "    a: float, b: float, c: float\n",
    ") -> tuple[float | complex, float | complex]:\n",
    "    \"\"\"Solving the quadratic equation ax^2+bx+c=0.\n",
    "\n",
    "    In algebra, a quadratic equation (from Latin quadratus 'square') is an\n",
    "    equation that can be arranged in standard form as ax^2 + bx + c = 0,\n",
    "    where x represents an unknown value, and a, b, and c represent known\n",
    "    numbers, where a ≠ 0. (If a = 0 and b ≠ 0 then the equation is linear,\n",
    "    not quadratic.) The numbers a, b, and c are the coefficients of the\n",
    "    equation and may be distinguished by respectively calling them, the\n",
    "    quadratic coefficient, the linear coefficient and the constant\n",
    "    coefficient or free term.\n",
    "\n",
    "    Parameters\n",
    "    ----------\n",
    "    a : float\n",
    "        The the quadratic coefficient of the quadratic equation.\n",
    "    b : float\n",
    "        The linear coefficient of the quadratic equation.\n",
    "    c : float\n",
    "        Free term of the quadratic equation\n",
    "\n",
    "    Returns\n",
    "    -------\n",
    "    (x_1, x_2) : tuple[float, complex]\n",
    "        Roots of the quadratic equation\n",
    "\n",
    "    See Also\n",
    "    --------\n",
    "    numpy.roots\n",
    "        Return the roots of a polynomial with coefficients given in p.\n",
    "\n",
    "    Notes\n",
    "    -----\n",
    "    No distinction is made here between real and complex solutions of\n",
    "    quadratic equations.\n",
    "\n",
    "    References\n",
    "    ----------\n",
    "    [1] Quadratic equation : https://en.wikipedia.org/wiki/Quadratic_equation\n",
    "\n",
    "    Examples\n",
    "    --------\n",
    "    The case of two real roots:\n",
    "\n",
    "    >>> quadratic_equation(1, -1, -6)\n",
    "    (-2.0, 3.0)\n",
    "\n",
    "    The case of two equal real roots:\n",
    "\n",
    "    >>> quadratic_equation(2, -8, 8)\n",
    "    (2.0, 2.0)\n",
    "\n",
    "    The case of two complex roots:\n",
    "\n",
    "    >>> quadratic_equation(1, 2, 10)\n",
    "    ((-1-3j), (-1+3j))\n",
    "    \"\"\"\n",
    "\n",
    "    discriminant = b**2 - 4 * a * c\n",
    "    # Depending on the sign of the discriminant, we get a real or complex root\n",
    "    if discriminant < 0:\n",
    "        sqrt_discriminant = cmath.sqrt(discriminant)\n",
    "    else:\n",
    "        sqrt_discriminant = math.sqrt(discriminant)\n",
    "\n",
    "    x_1 = (-b - sqrt_discriminant) / (2 * a)\n",
    "    x_2 = (-b + sqrt_discriminant) / (2 * a)\n",
    "\n",
    "    return x_1, x_2\n"
   ]
  },
  {
   "cell_type": "code",
   "execution_count": 3,
   "id": "064ff16b",
   "metadata": {},
   "outputs": [
    {
     "name": "stdout",
     "output_type": "stream",
     "text": [
      "1. Equation x^2 - x - 6 = 0 has two real roots:\n",
      "x1 = -2.0, x2 = 3.0\n",
      "\n",
      "2. Equation 2x^2 - 8x + 8 = 0 has two equal real roots:\n",
      "x1 = 2.0, x2 = 2.0\n",
      "\n",
      "3. Equation x^2 + 2x + 10 = 0 has two complex roots:\n",
      "x1 = (-1-3j), x2 = (-1+3j)\n",
      "\n"
     ]
    }
   ],
   "source": [
    "print('1. Equation x^2 - x - 6 = 0 has two real roots:')\n",
    "x1, x2 = quadratic_equation(1, -1, -6)\n",
    "print(f'x1 = {x1}, x2 = {x2}', end='\\n\\n')\n",
    "\n",
    "print('2. Equation 2x^2 - 8x + 8 = 0 has two equal real roots:')\n",
    "x1, x2 = quadratic_equation(2, -8, 8)\n",
    "print(f'x1 = {x1}, x2 = {x2}', end='\\n\\n')\n",
    "\n",
    "print('3. Equation x^2 + 2x + 10 = 0 has two complex roots:')\n",
    "x1, x2 = quadratic_equation(1, 2, 10)\n",
    "print(f'x1 = {x1}, x2 = {x2}', end='\\n\\n')"
   ]
  },
  {
   "cell_type": "markdown",
   "id": "4a760cc8",
   "metadata": {},
   "source": [
    "#### Program research\n",
    "Try to find answers to the following questions.\n",
    "Experiment with code changes and run the program again to see how they will affect its operation."
   ]
  },
  {
   "cell_type": "markdown",
   "id": "6c46a3d1",
   "metadata": {},
   "source": [
    "1. What happens if the coefficient $a$ is still equal to 0?\n",
    "\n",
    "2. How to modify the program so that in the case of $a = 0$ to get the correct solution of the (linear) equation.\n",
    "\n",
    "3. What happens if $a=b=c=0$? What should be the solution in this case? Upgrade the program to work correctly in this case."
   ]
  },
  {
   "cell_type": "markdown",
   "id": "e1c71291",
   "metadata": {},
   "source": [
    "#### Links\n",
    "\n",
    "https://en.wikipedia.org/wiki/Quadratic_equation"
   ]
  }
 ],
 "metadata": {
  "kernelspec": {
   "display_name": "Python 3 (ipykernel)",
   "language": "python",
   "name": "python3"
  },
  "language_info": {
   "codemirror_mode": {
    "name": "ipython",
    "version": 3
   },
   "file_extension": ".py",
   "mimetype": "text/x-python",
   "name": "python",
   "nbconvert_exporter": "python",
   "pygments_lexer": "ipython3",
   "version": "3.11.3"
  }
 },
 "nbformat": 4,
 "nbformat_minor": 5
}
