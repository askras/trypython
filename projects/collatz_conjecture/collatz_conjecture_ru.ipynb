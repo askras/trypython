{
 "cells": [
  {
   "cell_type": "markdown",
   "id": "d537edd8",
   "metadata": {},
   "source": [
    "### Гипотеза Коллатца (3n+1 дилемма, сиракузская проблема)"
   ]
  },
  {
   "cell_type": "markdown",
   "id": "64e2184d",
   "metadata": {},
   "source": [
    "Для объяснения сути гипотезы рассмотрим следующую последовательность чисел, называемую **сиракузской последовательностью**. \n",
    "\n",
    "Берём любое натуральное число $n$. Если оно чётное, то делим его на 2, а если нечётное, то умножаем на 3 и прибавляем 1 (получаем 3n + 1). \n",
    "Над полученным числом выполняем те же самые действия, и так далее.\n",
    "\n",
    "Приведем две реализации вычисления сиракузской последовательнсти: итеративную и рекурсивную. "
   ]
  },
  {
   "cell_type": "code",
   "execution_count": 1,
   "id": "bff55a50",
   "metadata": {},
   "outputs": [],
   "source": [
    "# %load -y -n -s get_syracuse_sequence_iterative syracuse_sequence_iterative.py\n",
    "def get_syracuse_sequence_iterative(n: int) -> list[int]:\n",
    "    \"\"\"Syracuse_sequence. Iterative implementation.\n",
    "\n",
    "    To explain the essence of the hypothesis, consider the following sequence\n",
    "    of numbers, called the Syracuse sequence. We take any natural number n.\n",
    "    1) If n is even, the next number n is n / 2.\n",
    "    2) If n is odd, the next number n is n * 3 + 1.\n",
    "    3) If n is 1, stop. Otherwise, repeat.\n",
    "    It is generally thought, but so far not mathematically proven, that\n",
    "    every starting number eventually terminates at 1.\n",
    "\n",
    "    Parameters\n",
    "    ----------\n",
    "    n : int\n",
    "        The first element of the Syracuse sequence.\n",
    "\n",
    "    Returns\n",
    "    -------\n",
    "    syracuse_sequence : list[int]\n",
    "        Syracuse sequence with the first element 'n'\n",
    "\n",
    "    Notes\n",
    "    -----\n",
    "    Iterative implementation of the Syracuse sequence calculation.\n",
    "\n",
    "    References\n",
    "    ----------\n",
    "    [1] Collatz Sequence : https://en.wikipedia.org/wiki/Collatz_conjecture\n",
    "\n",
    "    Examples\n",
    "    --------\n",
    "    >>> get_syracuse_sequence_iterative(0)\n",
    "    []\n",
    "\n",
    "    >>> get_syracuse_sequence_iterative(1)\n",
    "    [1]\n",
    "\n",
    "    >>> get_syracuse_sequence_iterative(5)\n",
    "    [5, 16, 8, 4, 2, 1]\n",
    "\n",
    "    >>> get_syracuse_sequence_iterative(27) # doctest: +ELLIPSIS\n",
    "    [27, 82, 41, 124, 62, 31, 94, 47, 142, 71, 214, 107, 322, 161, ...\n",
    "\n",
    "    >>> get_syracuse_sequence_iterative(150)\n",
    "    [150, 75, 226, 113, 340, 170, 85, 256, 128, 64, 32, 16, 8, 4, 2, 1]\n",
    "    \"\"\"\n",
    "\n",
    "    if n < 1:\n",
    "        return []\n",
    "\n",
    "    syracuse_sequence = [n]\n",
    "    while n != 1:\n",
    "        if n % 2 == 0:  # n is even\n",
    "            n = n // 2\n",
    "        else:  # n is odd\n",
    "            n = 3 * n + 1\n",
    "        syracuse_sequence.append(n)\n",
    "    return syracuse_sequence\n"
   ]
  },
  {
   "cell_type": "code",
   "execution_count": 2,
   "id": "2c660a8b",
   "metadata": {},
   "outputs": [],
   "source": [
    "# %load -y -n -s get_syracuse_sequence_recursive syracuse_sequence_recursive.py\n",
    "def get_syracuse_sequence_recursive(n: int) -> list[int]:\n",
    "    \"\"\"Syracuse_sequence. Recursive implementation.\n",
    "\n",
    "    To explain the essence of the hypothesis, consider the following sequence\n",
    "    of numbers, called the Syracuse sequence. We take any natural number n.\n",
    "    1) If n is even, the next number n is n / 2.\n",
    "    2) If n is odd, the next number n is n * 3 + 1.\n",
    "    3) If n is 1, stop. Otherwise, repeat.\n",
    "    It is generally thought, but so far not mathematically proven, that\n",
    "    every starting number eventually terminates at 1.\n",
    "\n",
    "    Parameters\n",
    "    ----------\n",
    "    n : int\n",
    "        The first element of the Syracuse sequence.\n",
    "\n",
    "    Returns\n",
    "    -------\n",
    "    syracuse_sequence : list[int]\n",
    "        Syracuse sequence with the first element 'n'\n",
    "\n",
    "    Notes\n",
    "    -----\n",
    "    Recursive implementation of the Syracuse sequence calculation.\n",
    "\n",
    "    References\n",
    "    ----------\n",
    "    [1] Collatz Sequence : https://en.wikipedia.org/wiki/Collatz_conjecture\n",
    "\n",
    "    Examples\n",
    "    --------\n",
    "    >>> get_syracuse_sequence_recursive(0)\n",
    "    []\n",
    "\n",
    "    >>> get_syracuse_sequence_recursive(1)\n",
    "    [1]\n",
    "\n",
    "    >>> get_syracuse_sequence_recursive(5)\n",
    "    [5, 16, 8, 4, 2, 1]\n",
    "\n",
    "    >>> get_syracuse_sequence_recursive(27) # doctest: +ELLIPSIS\n",
    "    [27, 82, 41, 124, 62, 31, 94, 47, 142, 71, 214, 107, 322, 161, ...\n",
    "\n",
    "    >>> get_syracuse_sequence_recursive(150)\n",
    "    [150, 75, 226, 113, 340, 170, 85, 256, 128, 64, 32, 16, 8, 4, 2, 1]\n",
    "    \"\"\"\n",
    "    if n < 1:\n",
    "        return []\n",
    "    elif n == 1:  # n is even\n",
    "        return [1]\n",
    "    elif n % 2 == 0:  # n is odd\n",
    "        return [n] + get_syracuse_sequence_recursive(n // 2)\n",
    "    else:\n",
    "        return [n] + get_syracuse_sequence_recursive(3 * n + 1)\n"
   ]
  },
  {
   "cell_type": "markdown",
   "id": "47ba58a3",
   "metadata": {},
   "source": [
    "**Гипотеза Коллатца** заключается в том, что с какого бы числа $n$ мы не начали строить сиракузскую последовательность, рано или поздно мы получим единицу. \n",
    "\n",
    "Заметим, что гипотеза Коллатца является одной из нерешенных задач математики. "
   ]
  },
  {
   "cell_type": "code",
   "execution_count": 3,
   "id": "84d94c4e",
   "metadata": {},
   "outputs": [
    {
     "name": "stdout",
     "output_type": "stream",
     "text": [
      "For n = 27, the Syracuse sequence has the form:\n",
      "27, 82, 41, 124, 62, 31, 94, 47, 142, 71, 214, 107, 322, 161, 484, 242, 121, 364, 182, 91, 274, 137, 412, 206, 103, 310, 155, 466, 233, 700, 350, 175, 526, 263, 790, 395, 1186, 593, 1780, 890, 445, 1336, 668, 334, 167, 502, 251, 754, 377, 1132, 566, 283, 850, 425, 1276, 638, 319, 958, 479, 1438, 719, 2158, 1079, 3238, 1619, 4858, 2429, 7288, 3644, 1822, 911, 2734, 1367, 4102, 2051, 6154, 3077, 9232, 4616, 2308, 1154, 577, 1732, 866, 433, 1300, 650, 325, 976, 488, 244, 122, 61, 184, 92, 46, 23, 70, 35, 106, 53, 160, 80, 40, 20, 10, 5, 16, 8, 4, 2, 1\n",
      "\n"
     ]
    }
   ],
   "source": [
    "import time\n",
    "\n",
    "from syracuse_sequence_iterative import (\n",
    "    get_syracuse_sequence_iterative as get_syracuse_sequence,\n",
    ")\n",
    "\n",
    "starting_number = 27\n",
    "\n",
    "print(f'For n = {starting_number}, the Syracuse sequence has the form:')\n",
    "syracuse_sequence = get_syracuse_sequence(starting_number)\n",
    "for item in syracuse_sequence[:-1]:\n",
    "    print(str(item) + ',', end=' ', flush=True)\n",
    "    time.sleep(0.10)\n",
    "print(syracuse_sequence[-1], end='\\n\\n')\n"
   ]
  },
  {
   "cell_type": "code",
   "execution_count": 4,
   "id": "d9e71bd2",
   "metadata": {},
   "outputs": [
    {
     "name": "stdout",
     "output_type": "stream",
     "text": [
      "For n = 27, the Syracuse sequence has the form:\n",
      "27, 82, 41, 124, 62, 31, 94, 47, 142, 71, 214, 107, 322, 161, 484, 242, 121, 364, 182, 91, 274, 137, 412, 206, 103, 310, 155, 466, 233, 700, 350, 175, 526, 263, 790, 395, 1186, 593, 1780, 890, 445, 1336, 668, 334, 167, 502, 251, 754, 377, 1132, 566, 283, 850, 425, 1276, 638, 319, 958, 479, 1438, 719, 2158, 1079, 3238, 1619, 4858, 2429, 7288, 3644, 1822, 911, 2734, 1367, 4102, 2051, 6154, 3077, 9232, 4616, 2308, 1154, 577, 1732, 866, 433, 1300, 650, 325, 976, 488, 244, 122, 61, 184, 92, 46, 23, 70, 35, 106, 53, 160, 80, 40, 20, 10, 5, 16, 8, 4, 2, 1\n",
      "\n"
     ]
    }
   ],
   "source": [
    "import time\n",
    "\n",
    "from syracuse_sequence_recursive import (\n",
    "    get_syracuse_sequence_recursive as get_syracuse_sequence,\n",
    ")\n",
    "\n",
    "starting_number = 27\n",
    "\n",
    "print(f'For n = {starting_number}, the Syracuse sequence has the form:')\n",
    "syracuse_sequence = get_syracuse_sequence(starting_number)\n",
    "for item in syracuse_sequence[:-1]:\n",
    "    print(str(item) + ',', end=' ', flush=True)\n",
    "    time.sleep(0.10)\n",
    "print(syracuse_sequence[-1], end='\\n\\n')"
   ]
  },
  {
   "cell_type": "markdown",
   "id": "4a760cc8",
   "metadata": {},
   "source": [
    "#### Исследование программы\n",
    "Попробуйте найти ответы на следующие вопросы. \n",
    "Поэкспериментируйте с изменениями кода и запустите программу снова, чтобы увидеть, как они повлияют на ее работу."
   ]
  },
  {
   "cell_type": "markdown",
   "id": "6c46a3d1",
   "metadata": {},
   "source": [
    "1. Сколько членов содержит сиракузская последовательность, начинающаяся с 13?\n",
    "\n",
    "2. Сколько членов содержит последовательность Коллатца, начинающаяся с 76?\n",
    "\n",
    "3. Всегда ли последовательности Коллатца, начальные члены которых являются степенями двойки (2, 4, 8, 16, 32, 64, 128 и т. д.), состоят только из четных чисел (не считая конечного числа 1)?\n",
    "\n",
    "4. Найдите какому числу от 1 до 1000 соответсвует самая длинная сиракузская последовательость."
   ]
  },
  {
   "cell_type": "markdown",
   "id": "e1c71291",
   "metadata": {},
   "source": [
    "#### Ссылки\n",
    "\n",
    "https://ru.wikipedia.org/wiki/Гипотеза_Коллатца\n",
    "\n",
    "https://ru.wikipedia.org/wiki/Открытые_математические_проблемы"
   ]
  }
 ],
 "metadata": {
  "kernelspec": {
   "display_name": "Python 3 (ipykernel)",
   "language": "python",
   "name": "python3"
  },
  "language_info": {
   "codemirror_mode": {
    "name": "ipython",
    "version": 3
   },
   "file_extension": ".py",
   "mimetype": "text/x-python",
   "name": "python",
   "nbconvert_exporter": "python",
   "pygments_lexer": "ipython3",
   "version": "3.11.3"
  }
 },
 "nbformat": 4,
 "nbformat_minor": 5
}
