{
 "cells": [
  {
   "cell_type": "markdown",
   "id": "d537edd8",
   "metadata": {},
   "source": [
    "### Collatz Conjecture (3n + 1 problem, Syracuse problem)"
   ]
  },
  {
   "cell_type": "markdown",
   "id": "64e2184d",
   "metadata": {},
   "source": [
    "To explain the essence of the hypothesis, consider the following sequence of numbers, called the **Syracuse sequence**.\n",
    "\n",
    "We take any natural number $n$. If it is even, then divide it by 2, and if it is odd, then multiply by 3 and add 1 (we get 3n + 1).\n",
    "We perform the same actions on the resulting number, and so on.\n",
    "\n",
    "Here are two implementations of the Syracuse sequence calculation: iterative and recursive."
   ]
  },
  {
   "cell_type": "code",
   "execution_count": 1,
   "id": "3af440ef",
   "metadata": {},
   "outputs": [],
   "source": [
    "# %load -y -n -s get_syracuse_sequence_iterative syracuse_sequence_iterative.py\n",
    "def get_syracuse_sequence_iterative(n: int) -> list[int]:\n",
    "    \"\"\"Syracuse_sequence. Iterative implementation.\n",
    "\n",
    "    To explain the essence of the hypothesis, consider the following sequence\n",
    "    of numbers, called the Syracuse sequence. We take any natural number n.\n",
    "    1) If n is even, the next number n is n / 2.\n",
    "    2) If n is odd, the next number n is n * 3 + 1.\n",
    "    3) If n is 1, stop. Otherwise, repeat.\n",
    "    It is generally thought, but so far not mathematically proven, that\n",
    "    every starting number eventually terminates at 1.\n",
    "\n",
    "    Parameters\n",
    "    ----------\n",
    "    n : int\n",
    "        The first element of the Syracuse sequence.\n",
    "\n",
    "    Returns\n",
    "    -------\n",
    "    syracuse_sequence : list[int]\n",
    "        Syracuse sequence with the first element 'n'\n",
    "\n",
    "    Notes\n",
    "    -----\n",
    "    Iterative implementation of the Syracuse sequence calculation.\n",
    "\n",
    "    References\n",
    "    ----------\n",
    "    [1] Collatz Sequence : https://en.wikipedia.org/wiki/Collatz_conjecture\n",
    "\n",
    "    Examples\n",
    "    --------\n",
    "    >>> get_syracuse_sequence_iterative(0)\n",
    "    []\n",
    "\n",
    "    >>> get_syracuse_sequence_iterative(1)\n",
    "    [1]\n",
    "\n",
    "    >>> get_syracuse_sequence_iterative(5)\n",
    "    [5, 16, 8, 4, 2, 1]\n",
    "\n",
    "    >>> get_syracuse_sequence_iterative(27) # doctest: +ELLIPSIS\n",
    "    [27, 82, 41, 124, 62, 31, 94, 47, 142, 71, 214, 107, 322, 161, ...\n",
    "\n",
    "    >>> get_syracuse_sequence_iterative(150)\n",
    "    [150, 75, 226, 113, 340, 170, 85, 256, 128, 64, 32, 16, 8, 4, 2, 1]\n",
    "    \"\"\"\n",
    "\n",
    "    if n < 1:\n",
    "        return []\n",
    "\n",
    "    syracuse_sequence = [n]\n",
    "    while n != 1:\n",
    "        if n % 2 == 0:  # n is even\n",
    "            n = n // 2\n",
    "        else:  # n is odd\n",
    "            n = 3 * n + 1\n",
    "        syracuse_sequence.append(n)\n",
    "    return syracuse_sequence\n"
   ]
  },
  {
   "cell_type": "code",
   "execution_count": 2,
   "id": "9a37b5dc",
   "metadata": {},
   "outputs": [],
   "source": [
    "# %load -y -n -s get_syracuse_sequence_recursive syracuse_sequence_recursive.py\n",
    "def get_syracuse_sequence_recursive(n: int) -> list[int]:\n",
    "    \"\"\"Syracuse_sequence. Recursive implementation.\n",
    "\n",
    "    To explain the essence of the hypothesis, consider the following sequence\n",
    "    of numbers, called the Syracuse sequence. We take any natural number n.\n",
    "    1) If n is even, the next number n is n / 2.\n",
    "    2) If n is odd, the next number n is n * 3 + 1.\n",
    "    3) If n is 1, stop. Otherwise, repeat.\n",
    "    It is generally thought, but so far not mathematically proven, that\n",
    "    every starting number eventually terminates at 1.\n",
    "\n",
    "    Parameters\n",
    "    ----------\n",
    "    n : int\n",
    "        The first element of the Syracuse sequence.\n",
    "\n",
    "    Returns\n",
    "    -------\n",
    "    syracuse_sequence : list[int]\n",
    "        Syracuse sequence with the first element 'n'\n",
    "\n",
    "    Notes\n",
    "    -----\n",
    "    Recursive implementation of the Syracuse sequence calculation.\n",
    "\n",
    "    References\n",
    "    ----------\n",
    "    [1] Collatz Sequence : https://en.wikipedia.org/wiki/Collatz_conjecture\n",
    "\n",
    "    Examples\n",
    "    --------\n",
    "    >>> get_syracuse_sequence_recursive(0)\n",
    "    []\n",
    "\n",
    "    >>> get_syracuse_sequence_recursive(1)\n",
    "    [1]\n",
    "\n",
    "    >>> get_syracuse_sequence_recursive(5)\n",
    "    [5, 16, 8, 4, 2, 1]\n",
    "\n",
    "    >>> get_syracuse_sequence_recursive(27) # doctest: +ELLIPSIS\n",
    "    [27, 82, 41, 124, 62, 31, 94, 47, 142, 71, 214, 107, 322, 161, ...\n",
    "\n",
    "    >>> get_syracuse_sequence_recursive(150)\n",
    "    [150, 75, 226, 113, 340, 170, 85, 256, 128, 64, 32, 16, 8, 4, 2, 1]\n",
    "    \"\"\"\n",
    "    if n < 1:\n",
    "        return []\n",
    "    elif n == 1:  # n is even\n",
    "        return [1]\n",
    "    elif n % 2 == 0:  # n is odd\n",
    "        return [n] + get_syracuse_sequence_recursive(n // 2)\n",
    "    else:\n",
    "        return [n] + get_syracuse_sequence_recursive(3 * n + 1)\n"
   ]
  },
  {
   "cell_type": "markdown",
   "id": "62b87e2f",
   "metadata": {},
   "source": [
    "**The Collatz conjecture** is that no matter from which number $n$ we start building the Syracuse sequence, sooner or later we will get one.\n",
    "\n",
    "Note that the Collatz conjecture is one of the unsolved problems of mathematics."
   ]
  },
  {
   "cell_type": "code",
   "execution_count": 3,
   "id": "fcc5ce33",
   "metadata": {},
   "outputs": [
    {
     "name": "stdout",
     "output_type": "stream",
     "text": [
      "For n = 27, the Syracuse sequence has the form:\n",
      "27, 82, 41, 124, 62, 31, 94, 47, 142, 71, 214, 107, 322, 161, 484, 242, 121, 364, 182, 91, 274, 137, 412, 206, 103, 310, 155, 466, 233, 700, 350, 175, 526, 263, 790, 395, 1186, 593, 1780, 890, 445, 1336, 668, 334, 167, 502, 251, 754, 377, 1132, 566, 283, 850, 425, 1276, 638, 319, 958, 479, 1438, 719, 2158, 1079, 3238, 1619, 4858, 2429, 7288, 3644, 1822, 911, 2734, 1367, 4102, 2051, 6154, 3077, 9232, 4616, 2308, 1154, 577, 1732, 866, 433, 1300, 650, 325, 976, 488, 244, 122, 61, 184, 92, 46, 23, 70, 35, 106, 53, 160, 80, 40, 20, 10, 5, 16, 8, 4, 2, 1\n",
      "\n"
     ]
    }
   ],
   "source": [
    "import time\n",
    "\n",
    "from syracuse_sequence_iterative import (\n",
    "    get_syracuse_sequence_iterative as get_syracuse_sequence,\n",
    ")\n",
    "\n",
    "starting_number = 27\n",
    "\n",
    "print(f'For n = {starting_number}, the Syracuse sequence has the form:')\n",
    "syracuse_sequence = get_syracuse_sequence(starting_number)\n",
    "for item in syracuse_sequence[:-1]:\n",
    "    print(str(item) + ',', end=' ', flush=True)\n",
    "    time.sleep(0.10)\n",
    "print(syracuse_sequence[-1], end='\\n\\n')\n"
   ]
  },
  {
   "cell_type": "code",
   "execution_count": 4,
   "id": "98bf8fb7",
   "metadata": {},
   "outputs": [
    {
     "name": "stdout",
     "output_type": "stream",
     "text": [
      "For n = 27, the Syracuse sequence has the form:\n",
      "27, 82, 41, 124, 62, 31, 94, 47, 142, 71, 214, 107, 322, 161, 484, 242, 121, 364, 182, 91, 274, 137, 412, 206, 103, 310, 155, 466, 233, 700, 350, 175, 526, 263, 790, 395, 1186, 593, 1780, 890, 445, 1336, 668, 334, 167, 502, 251, 754, 377, 1132, 566, 283, 850, 425, 1276, 638, 319, 958, 479, 1438, 719, 2158, 1079, 3238, 1619, 4858, 2429, 7288, 3644, 1822, 911, 2734, 1367, 4102, 2051, 6154, 3077, 9232, 4616, 2308, 1154, 577, 1732, 866, 433, 1300, 650, 325, 976, 488, 244, 122, 61, 184, 92, 46, 23, 70, 35, 106, 53, 160, 80, 40, 20, 10, 5, 16, 8, 4, 2, 1\n",
      "\n"
     ]
    }
   ],
   "source": [
    "import time\n",
    "\n",
    "from syracuse_sequence_recursive import (\n",
    "    get_syracuse_sequence_recursive as get_syracuse_sequence,\n",
    ")\n",
    "\n",
    "starting_number = 27\n",
    "\n",
    "print(f'For n = {starting_number}, the Syracuse sequence has the form:')\n",
    "syracuse_sequence = get_syracuse_sequence(starting_number)\n",
    "for item in syracuse_sequence[:-1]:\n",
    "    print(str(item) + ',', end=' ', flush=True)\n",
    "    time.sleep(0.10)\n",
    "print(syracuse_sequence[-1], end='\\n\\n')"
   ]
  },
  {
   "cell_type": "markdown",
   "id": "4a760cc8",
   "metadata": {},
   "source": [
    "#### Program research\n",
    "Try to find answers to the following questions.\n",
    "Experiment with code changes and run the program again to see how they will affect its operation."
   ]
  },
  {
   "cell_type": "markdown",
   "id": "6c46a3d1",
   "metadata": {},
   "source": [
    "1. How many terms does the Syracuse sequence starting with 13 contain?\n",
    "\n",
    "2. How many terms does the Collatz sequence starting with 76 contain?\n",
    "\n",
    "3. Is there always a Collatz sequence whose initial terms are powers of two (2, 4, 8, 16, 32, 64, 128 etc.), consist only of even numbers (not counting the finite number 1)?\n",
    "\n",
    "4. Find which number from 1 to 1000 corresponds to the longest Syracuse sequence."
   ]
  },
  {
   "cell_type": "markdown",
   "id": "e1c71291",
   "metadata": {},
   "source": [
    "#### Links\n",
    "\n",
    "https://en.wikipedia.org/wiki/Collatz_conjecture\n",
    "\n",
    "https://en.wikipedia.org/wiki/List_of_unsolved_problems_in_mathematics"
   ]
  }
 ],
 "metadata": {
  "kernelspec": {
   "display_name": "Python 3 (ipykernel)",
   "language": "python",
   "name": "python3"
  },
  "language_info": {
   "codemirror_mode": {
    "name": "ipython",
    "version": 3
   },
   "file_extension": ".py",
   "mimetype": "text/x-python",
   "name": "python",
   "nbconvert_exporter": "python",
   "pygments_lexer": "ipython3",
   "version": "3.11.3"
  }
 },
 "nbformat": 4,
 "nbformat_minor": 5
}
