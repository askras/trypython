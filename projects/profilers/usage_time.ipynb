{
 "cells": [
  {
   "cell_type": "markdown",
   "id": "d537edd8",
   "metadata": {},
   "source": [
    "### Usage Time: Measurement of function operation time"
   ]
  },
  {
   "cell_type": "markdown",
   "id": "64e2184d",
   "metadata": {},
   "source": [
    "An important criterion for evaluating algorithms is their operating time.\n",
    "To estimate the running time of the function, you can use the decorator given here."
   ]
  },
  {
   "cell_type": "code",
   "execution_count": null,
   "id": "b78f689c",
   "metadata": {},
   "outputs": [],
   "source": [
    "# %load -y -n -r 14:17 usage_time.py\n",
    "import functools\n",
    "import timeit\n",
    "import typing"
   ]
  },
  {
   "cell_type": "code",
   "execution_count": null,
   "id": "fafbed6f",
   "metadata": {},
   "outputs": [],
   "source": [
    "# %load -y -n -s get_usage_time usage_time.py\n",
    "def get_usage_time(\n",
    "    *, number: int = 1, setup: str = 'pass', ndigits: int = 3\n",
    ") -> typing.Callable:\n",
    "    \"\"\"Decorator for measuring the speed of the function (in seconds)\n",
    "\n",
    "    Parameters\n",
    "    ----------\n",
    "    number : int, optional\n",
    "        Number of code repetitions.\n",
    "    setup : str, optional\n",
    "        Code executed once before timing.\n",
    "    ndigits : int, optional\n",
    "        Number of decimal places in the returned value.\n",
    "\n",
    "    Returns\n",
    "    -------\n",
    "    decorator: typing.Callable\n",
    "        Decorator for measuring the time of the function in seconds.\n",
    "\n",
    "    See Also\n",
    "    --------\n",
    "    timeit\n",
    "        Measure execution time of small code snippets.\n",
    "\n",
    "    References\n",
    "    ----------\n",
    "    [1] timeit documentation : https://docs.python.org/3/library/timeit.html\n",
    "\n",
    "    Examples\n",
    "    --------\n",
    "    Decorating an existing function:\n",
    "\n",
    "    >>> import time\n",
    "    >>> def sleep_func(n):\n",
    "    ...     time.sleep(n)\n",
    "    ...     return n\n",
    "    ...\n",
    "    >>> get_usage_time_sleep_func = get_usage_time()(sleep_func)\n",
    "    >>> time_sleep_func = get_usage_time_sleep_func(2)\n",
    "    >>> print(f'The function was executed for {time_sleep_func} seconds')\n",
    "    The function was executed for 2.0 seconds\n",
    "    >>> get_usage_time(number=5)(sleep_func)(4)\n",
    "    4.0\n",
    "\n",
    "    Measuring the running time of a function for different parameter values:\n",
    "\n",
    "    >>> import time\n",
    "    >>> def sleep_func(n):\n",
    "    ...     time.sleep(n)\n",
    "    ...     return n\n",
    "    ...\n",
    "    >>> for n in range(1,4):\n",
    "    ...    get_usage_time_sleep_func = get_usage_time(number=2)(sleep_func)\n",
    "    ...    print(get_usage_time_sleep_func(n))\n",
    "    1.0\n",
    "    2.0\n",
    "    3.0\n",
    "\n",
    "    Using the `setup` option:\n",
    "\n",
    "    >>> import time\n",
    "    >>> def sleep_func(n):\n",
    "    ...     time.sleep(n)\n",
    "    ...     return n\n",
    "    ...\n",
    "    >>> setup = 'print(\"Start setup\"); time.sleep(10); print(\"End setup\")'\n",
    "    >>> get_usage_time_sleep_func = get_usage_time(setup=setup)(sleep_func)\n",
    "    >>> print(get_usage_time_sleep_func(3))\n",
    "    Start setup\n",
    "    End setup\n",
    "    3.0\n",
    "\n",
    "    Decoding the generated function:\n",
    "\n",
    "    >>> import time\n",
    "    >>> @get_usage_time(number=2, setup='print(\"Start\");', ndigits=0)\n",
    "    ... def sleep_func(n):\n",
    "    ...    time.sleep(n)\n",
    "    ...    return n\n",
    "    ...\n",
    "    >>> time_sleep_func = sleep_func(3)\n",
    "    Start\n",
    "    >>> print(time_sleep_func)\n",
    "    3.0\n",
    "    \"\"\"\n",
    "\n",
    "    def decorator(func: typing.Callable) -> typing.Callable:\n",
    "        @functools.wraps(func)\n",
    "        def wrapper(*args, **kwargs) -> float:\n",
    "            usage_time = timeit.timeit(\n",
    "                lambda: func(*args, **kwargs),\n",
    "                setup=setup,\n",
    "                number=number,\n",
    "            )\n",
    "            return round(usage_time / number, ndigits)\n",
    "\n",
    "        return wrapper\n",
    "\n",
    "    return decorator"
   ]
  },
  {
   "cell_type": "markdown",
   "id": "8f3fbaab",
   "metadata": {},
   "source": [
    "#### Usage example"
   ]
  },
  {
   "cell_type": "code",
   "execution_count": null,
   "id": "945e7708",
   "metadata": {},
   "outputs": [],
   "source": [
    "import random\n",
    "\n",
    "\n",
    "def my_func(n):\n",
    "    L = [random.randint(1, 1000) for _ in range(n)]\n",
    "    return sum(sorted(L))"
   ]
  },
  {
   "cell_type": "code",
   "execution_count": null,
   "id": "709e6925",
   "metadata": {},
   "outputs": [],
   "source": [
    "# WARNING. It may take a few minutes.\n",
    "func = get_usage_time(ndigits=5)(my_func)\n",
    "for i in range(1, 9):  # Replace 9 with a smaller number to speed up\n",
    "    print(f'The function was executed for {func(10**i)} seconds at n=10^{i}.')"
   ]
  },
  {
   "cell_type": "code",
   "execution_count": null,
   "id": "7be5d1b4",
   "metadata": {},
   "outputs": [],
   "source": [
    "# WARNING. It may take a few minutes.\n",
    "\n",
    "import matplotlib.pyplot as plt\n",
    "\n",
    "%matplotlib inline\n",
    "\n",
    "func = get_usage_time(ndigits=5)(my_func)\n",
    "\n",
    "items = range(1, 9)  # Replace 9 with a smaller number to speed up\n",
    "times = [func(10**i) for i in items]\n",
    "\n",
    "fig = plt.plot(items, times, 'bo-')\n",
    "plt.title('The execution time of the sorting algorithm')\n",
    "ax = plt.gca()\n",
    "ax.set_xlabel('Number of elements, $10^n$ pieces')\n",
    "ax.set_ylabel('Time, sec')\n",
    "plt.show()"
   ]
  },
  {
   "cell_type": "markdown",
   "id": "4a760cc8",
   "metadata": {},
   "source": [
    "#### Program research\n",
    "Try to find answers to the following questions.\n",
    "Experiment with code changes and run the program again to see how they will affect its operation."
   ]
  },
  {
   "cell_type": "markdown",
   "id": "6c46a3d1",
   "metadata": {},
   "source": [
    "1. Modify the decorator to get the time value in milliseconds (microseconds)."
   ]
  },
  {
   "cell_type": "markdown",
   "id": "e1c71291",
   "metadata": {},
   "source": [
    "#### Ссылки\n",
    "\n",
    "1. timeit documentation : https://docs.python.org/3/library/timeit.html"
   ]
  }
 ],
 "metadata": {
  "kernelspec": {
   "display_name": "Python 3 (ipykernel)",
   "language": "python",
   "name": "python3"
  },
  "language_info": {
   "codemirror_mode": {
    "name": "ipython",
    "version": 3
   },
   "file_extension": ".py",
   "mimetype": "text/x-python",
   "name": "python",
   "nbconvert_exporter": "python",
   "pygments_lexer": "ipython3",
   "version": "3.11.3"
  }
 },
 "nbformat": 4,
 "nbformat_minor": 5
}
