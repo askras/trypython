{
 "cells": [
  {
   "cell_type": "markdown",
   "id": "d537edd8",
   "metadata": {},
   "source": [
    "### Usage Time: Измерение времени работы функции"
   ]
  },
  {
   "cell_type": "markdown",
   "id": "64e2184d",
   "metadata": {},
   "source": [
    "Важным критерием оценки алгоритмов является время их работы. \n",
    "Для оценки времени работы функции можно использовать приведенный здесь декоратор."
   ]
  },
  {
   "cell_type": "code",
   "execution_count": 1,
   "id": "bff55a50",
   "metadata": {
    "ExecuteTime": {
     "end_time": "2023-07-07T07:41:40.152636015Z",
     "start_time": "2023-07-07T07:41:40.145364846Z"
    }
   },
   "outputs": [
    {
     "name": "stdout",
     "output_type": "stream",
     "text": [
      "1.0\n",
      "2.0\n",
      "3.0\n"
     ]
    }
   ],
   "source": [
    "# %load usage_time.py\n",
    "#!/usr/bin/env python\n",
    "\n",
    "\"\"\"Usage Time\n",
    "\n",
    "Project: TryPython\n",
    "A collection of educational materials for learning the Python\n",
    "\n",
    "Author: Alexander Krasnikov aka askras\n",
    "Website: trypython.pro\n",
    "\n",
    "License: BSD 3 clause\n",
    "\"\"\"\n",
    "\n",
    "import functools\n",
    "import timeit\n",
    "import typing\n",
    "\n",
    "\n",
    "def get_usage_time(number: int = 1,\n",
    "                   setup: str = \"pass\",\n",
    "                   ndigits: int = 3) -> typing.Callable:\n",
    "    \"\"\"Decorator for measuring the speed of the function (in seconds)q\n",
    "\n",
    "    Parameters\n",
    "    ----------\n",
    "    number : int, default=1\n",
    "        Number of code repetitions.\n",
    "    setup : str, default=\"pass\"\n",
    "        Code executed once before timing.\n",
    "    ndigits : int, default=3\n",
    "        Number of decimal places in the returned value.\n",
    "\n",
    "    Returns\n",
    "    -------\n",
    "    decorator: typing.Callable\n",
    "        Decorator for measuring the time of the function in seconds.\n",
    "\n",
    "    See Also\n",
    "    --------\n",
    "    timeit\n",
    "        Measure execution time of small code snippets.\n",
    "\n",
    "    References\n",
    "    ----------\n",
    "    [1] timeit documentation : https://docs.python.org/3/library/timeit.html\n",
    "\n",
    "    Examples\n",
    "    --------\n",
    "    Decorating an existing function:\n",
    "\n",
    "    >>> import time\n",
    "    >>> def f(n):\n",
    "    ...     time.sleep(n)\n",
    "    ...     return n\n",
    "    ...\n",
    "    >>> f1 = get_usage_time()(f)\n",
    "    >>> print(f\"The function was executed for {f1(2)} seconds\")\n",
    "    The function was executed for 2.0 seconds\n",
    "    >>> get_usage_time()(f)(4)\n",
    "    4.0\n",
    "\n",
    "    Measuring the running time of a function for different parameter values:\n",
    "\n",
    "    >>> import time\n",
    "    >>> def f(n):\n",
    "    ...     time.sleep(n)\n",
    "    ...     return n\n",
    "    ...\n",
    "    >>> for n in range(1,4):\n",
    "    ...    f2 = get_usage_time(number=2)(f)\n",
    "    ...    print(f2(n))\n",
    "    1.0\n",
    "    2.0\n",
    "    3.0\n",
    "\n",
    "    Using the `setup` option:\n",
    "\n",
    "    >>> import time\n",
    "    >>> def f(n):\n",
    "    ...     time.sleep(n)\n",
    "    ...     return n\n",
    "    ...\n",
    "    >>> number = 5\n",
    "    >>> setup = \"print('Start setup'); time.sleep(10); print('End setup')\"\n",
    "    >>> f3 =  get_usage_time(number=number, setup=setup)(f)\n",
    "    >>> print(f3(3))\n",
    "    Start setup\n",
    "    End setup\n",
    "    3.0\n",
    "\n",
    "    Decoding the generated function:\n",
    "\n",
    "    >>> import time\n",
    "    >>> @get_usage_time(number=2, setup=\"print('Start');\", ndigits=0)\n",
    "    ... def f(n):\n",
    "    ...    time.sleep(n)\n",
    "    ...    return n\n",
    "    ...\n",
    "    >>> t = f(3)\n",
    "    Start\n",
    "    >>> print(t)\n",
    "    3.0\n",
    "    \"\"\"\n",
    "\n",
    "    def decorator(func: typing.Callable) -> typing.Callable:\n",
    "        @functools.wraps(func)\n",
    "        def wrapper(*args, **kwargs) -> float:\n",
    "            usage_time = timeit.timeit(\n",
    "                lambda: func(*args, **kwargs),\n",
    "                setup=setup,  # code to be executed once at the beginning of the experiment\n",
    "                number=number,  # number of repetitions\n",
    "            )\n",
    "            return round(usage_time / number, ndigits)\n",
    "        return wrapper\n",
    "    return decorator\n",
    "\n",
    "\n",
    "if __name__ == \"__main__\":\n",
    "    import time\n",
    "\n",
    "    def f(n):\n",
    "        time.sleep(n)\n",
    "        return n\n",
    "\n",
    "    for i in range(1, 4):\n",
    "        f1 = get_usage_time(number=3)(f)\n",
    "        print(f1(i))\n"
   ]
  },
  {
   "cell_type": "markdown",
   "id": "8f3fbaab",
   "metadata": {},
   "source": [
    "#### Пример использования"
   ]
  },
  {
   "cell_type": "code",
   "execution_count": 2,
   "id": "945e7708",
   "metadata": {},
   "outputs": [],
   "source": [
    "import random\n",
    "\n",
    "def my_func(n):\n",
    "    L = [random.randint(1, 1000) for _ in range(n)]\n",
    "    return sorted(L)"
   ]
  },
  {
   "cell_type": "code",
   "execution_count": 3,
   "id": "709e6925",
   "metadata": {},
   "outputs": [
    {
     "name": "stdout",
     "output_type": "stream",
     "text": [
      "The function was executed for 3e-05 seconds at n=10^1.\n",
      "The function was executed for 6e-05 seconds at n=10^2.\n",
      "The function was executed for 0.00065 seconds at n=10^3.\n",
      "The function was executed for 0.00871 seconds at n=10^4.\n",
      "The function was executed for 0.07946 seconds at n=10^5.\n",
      "The function was executed for 0.63112 seconds at n=10^6.\n",
      "The function was executed for 6.66879 seconds at n=10^7.\n",
      "The function was executed for 65.54227 seconds at n=10^8.\n"
     ]
    }
   ],
   "source": [
    "# WARNING. It may take a few minutes.\n",
    "func = get_usage_time(ndigits=5)(my_func)\n",
    "for i in range(1, 9): # Replace 9 with a smaller number to speed up\n",
    "    print(f\"The function was executed for {func(10**i)} seconds at n=10^{i}.\")\n"
   ]
  },
  {
   "cell_type": "code",
   "execution_count": 4,
   "id": "7be5d1b4",
   "metadata": {},
   "outputs": [
    {
     "data": {
      "image/png": "[encoded data removed]",
      "text/plain": [
       "<Figure size 640x480 with 1 Axes>"
      ]
     },
     "metadata": {},
     "output_type": "display_data"
    }
   ],
   "source": [
    "# WARNING. It may take a few minutes.\n",
    "\n",
    "import matplotlib.pyplot as plt\n",
    "%matplotlib inline\n",
    "\n",
    "func = get_usage_time(ndigits=5)(my_func)\n",
    "\n",
    "items = range(1, 9) # Replace 9 with a smaller number to speed up\n",
    "times = [func(10**i) for i in items]\n",
    "\n",
    "fig = plt.plot(items, times, \"bo-\") \n",
    "plt.title(\"The execution time of the sorting algorithm:\")\n",
    "ax = plt.gca()\n",
    "ax.set_xlabel(\"Number of elements , $10^n$ pieces\", fontsize=15,)\n",
    "ax.set_ylabel(\"Time, sec\", fontsize=15,)\n",
    "plt.show()"
   ]
  },
  {
   "cell_type": "markdown",
   "id": "4a760cc8",
   "metadata": {},
   "source": [
    "#### Исследование программы\n",
    "Попробуйте найти ответы на следующие вопросы. \n",
    "Поэкспериментируйте с изменениями кода и запустите программу снова, чтобы увидеть, как они повлияют на ее работу."
   ]
  },
  {
   "cell_type": "markdown",
   "id": "6c46a3d1",
   "metadata": {},
   "source": [
    "1. Модифицируйте декоратор для того чтобы получать значение времени в милисекундах (микросекундах).\n"
   ]
  },
  {
   "cell_type": "markdown",
   "id": "e1c71291",
   "metadata": {},
   "source": [
    "#### Ссылки\n",
    "\n",
    "1. Документация timeit: https://docs.python.org/3/library/timeit.html"
   ]
  }
 ],
 "metadata": {
  "kernelspec": {
   "display_name": "Python 3 (ipykernel)",
   "language": "python",
   "name": "python3"
  },
  "language_info": {
   "codemirror_mode": {
    "name": "ipython",
    "version": 3
   },
   "file_extension": ".py",
   "mimetype": "text/x-python",
   "name": "python",
   "nbconvert_exporter": "python",
   "pygments_lexer": "ipython3",
   "version": "3.11.3"
  }
 },
 "nbformat": 4,
 "nbformat_minor": 5
}
