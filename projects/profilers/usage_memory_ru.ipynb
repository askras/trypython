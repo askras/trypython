{
 "cells": [
  {
   "cell_type": "markdown",
   "id": "d537edd8",
   "metadata": {},
   "source": [
    "### Usage Time: Измерение используемой функцией памяти"
   ]
  },
  {
   "cell_type": "markdown",
   "id": "64e2184d",
   "metadata": {},
   "source": [
    "Важным критерием оценки алгоритмов является потребляемая ими память.\n",
    "Чтобы оценить потребляемой памяти, вы можете использовать приведенный здесь декоратор."
   ]
  },
  {
   "cell_type": "code",
   "execution_count": null,
   "id": "b78f689c",
   "metadata": {},
   "outputs": [],
   "source": [
    "# %load -y -n -r 14:17 usage_memory.py\n",
    "import functools\n",
    "import memory_profiler  # type: ignore\n",
    "import typing"
   ]
  },
  {
   "cell_type": "code",
   "execution_count": null,
   "id": "fafbed6f",
   "metadata": {},
   "outputs": [],
   "source": [
    "# %load -y -n -s get_usage_memory usage_memory.py\n",
    "def get_usage_memory(\n",
    "    *, interval: float = 0.1, timeout: float = 0.1, ndigits: int = 3\n",
    ") -> typing.Callable:\n",
    "    \"\"\"Decorator for measuring the memory used by the code in Mebibytes (MiB)\n",
    "\n",
    "    Подробное описание\n",
    "\n",
    "    Parameters\n",
    "    ----------\n",
    "    interval : float, optional\n",
    "        Interval at which measurements are collected.\n",
    "    timeout : float, optional\n",
    "        Maximum amount of time (in seconds) to wait before returning.\n",
    "    ndigits : int, optional\n",
    "        Number of decimal places in the returned value.\n",
    "\n",
    "    Returns\n",
    "    -------\n",
    "    decorator: typing.Callable\n",
    "        Decorator to measure the memory used by a function\n",
    "\n",
    "    See Also\n",
    "    --------\n",
    "    memory-profiler\n",
    "        A python module for monitoring memory consumption of a process as well\n",
    "        as line-by-line analysis of memory consumption for python programs.\n",
    "\n",
    "    References\n",
    "    ----------\n",
    "    [1] memory-profiler documentation : https://pypi.org/project/memory-profiler/\n",
    "\n",
    "    Examples\n",
    "    --------\n",
    "    Decorating an existing function:\n",
    "\n",
    "    >>> import time\n",
    "    >>> def f(n):\n",
    "    ...    time.sleep(1)\n",
    "    ...    L = [2] * (n * 10 ** 7)\n",
    "    ...    time.sleep(n)\n",
    "    ...    return L\n",
    "    ...\n",
    "    >>> f1 = get_usage_memory(ndigits=0)(f)\n",
    "    >>> print(f1(3))\n",
    "    229.0\n",
    "    >>> get_usage_memory(ndigits=0)(f)(4)\n",
    "    305.0\n",
    "\n",
    "    Decorating a function with parameters:\n",
    "\n",
    "    >>> import time\n",
    "    >>> def f(n):\n",
    "    ...    time.sleep(1)\n",
    "    ...    L = [2] * (n * 10 ** 7)\n",
    "    ...    time.sleep(n)\n",
    "    ...    return L\n",
    "    ...\n",
    "    >>> for n in range(1,4):\n",
    "    ...    f2 = get_usage_memory(ndigits=0)(f)\n",
    "    ...    print(f\"The function uses {f2(n)} MiB\")\n",
    "    The function uses 76.0 MiB\n",
    "    The function uses 152.0 MiB\n",
    "    The function uses 229.0 MiB\n",
    "\n",
    "    Decoding the generated function:\n",
    "\n",
    "    \"\"\"\n",
    "\n",
    "    def decorator(func: typing.Callable) -> typing.Callable:\n",
    "        @functools.wraps(func)\n",
    "        def wrapper(*args, **kwargs) -> typing.Callable:\n",
    "            usage_memory = memory_profiler.memory_usage(\n",
    "                (func, args, kwargs), interval=interval, timeout=timeout\n",
    "            )\n",
    "            return round(max(usage_memory) - usage_memory[0], ndigits)\n",
    "\n",
    "        return wrapper\n",
    "\n",
    "    return decorator"
   ]
  },
  {
   "cell_type": "markdown",
   "id": "8f3fbaab",
   "metadata": {},
   "source": [
    "#### Пример использования"
   ]
  },
  {
   "cell_type": "code",
   "execution_count": null,
   "id": "945e7708",
   "metadata": {},
   "outputs": [],
   "source": [
    "def sum_big_list(num: int) -> int:\n",
    "    big_list = [2] * (num * 10**7)\n",
    "    return sum(big_list)"
   ]
  },
  {
   "cell_type": "code",
   "execution_count": null,
   "id": "709e6925",
   "metadata": {},
   "outputs": [],
   "source": [
    "for i in range(1, 9):\n",
    "    get_memory = get_usage_memory(ndigits=3)(sum_big_list)\n",
    "    print(f'The function uses {get_memory(i)} MiB')"
   ]
  },
  {
   "cell_type": "code",
   "execution_count": null,
   "id": "7be5d1b4",
   "metadata": {},
   "outputs": [],
   "source": [
    "import matplotlib.pyplot as plt\n",
    "\n",
    "%matplotlib inline\n",
    "\n",
    "get_memory = get_usage_memory(ndigits=3)(sum_big_list)\n",
    "\n",
    "items = range(1, 9)  # multiply by 10**7\n",
    "memory = [get_memory(i) for i in items]\n",
    "\n",
    "fig = plt.plot(items, memory, 'bo-')\n",
    "plt.title('The amount of memory used')\n",
    "ax = plt.gca()\n",
    "ax.set_xlabel(f'Number of elements, $n\\cdot10^7$ pieces')\n",
    "ax.set_ylabel('Memory, MiB')\n",
    "plt.show()"
   ]
  },
  {
   "cell_type": "markdown",
   "id": "4a760cc8",
   "metadata": {},
   "source": [
    "Исследование программы\n",
    "\n",
    "Попробуйте найти ответы на следующие вопросы. Поэкспериментируйте с изменениями кода и запустите программу снова, чтобы увидеть, как они повлияют на ее работу."
   ]
  },
  {
   "cell_type": "markdown",
   "id": "6c46a3d1",
   "metadata": {},
   "source": [
    "1. Модифицируйте декоратор для того чтобы получать значение потребляемой памяти в кибибайтах."
   ]
  },
  {
   "cell_type": "markdown",
   "id": "e1c71291",
   "metadata": {},
   "source": [
    "#### Ссылки\n",
    "\n",
    "1. Документация memory-profiler: https://pypi.org/project/memory-profiler/"
   ]
  }
 ],
 "metadata": {
  "kernelspec": {
   "display_name": "Python 3 (ipykernel)",
   "language": "python",
   "name": "python3"
  },
  "language_info": {
   "codemirror_mode": {
    "name": "ipython",
    "version": 3
   },
   "file_extension": ".py",
   "mimetype": "text/x-python",
   "name": "python",
   "nbconvert_exporter": "python",
   "pygments_lexer": "ipython3",
   "version": "3.11.3"
  }
 },
 "nbformat": 4,
 "nbformat_minor": 5
}
