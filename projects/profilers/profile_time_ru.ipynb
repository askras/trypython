{
 "cells": [
  {
   "cell_type": "markdown",
   "id": "7f220aca",
   "metadata": {},
   "source": [
    "### Profile Time: Профилирование времени работы функции"
   ]
  },
  {
   "cell_type": "markdown",
   "id": "64e2184d",
   "metadata": {},
   "source": [
    "Важным критерием оценки алгоритмов является время их работы. \n",
    "Для оценки времени работы функции можно использовать приведенный здесь декоратор."
   ]
  },
  {
   "cell_type": "code",
   "execution_count": 1,
   "id": "bff55a50",
   "metadata": {
    "ExecuteTime": {
     "end_time": "2023-07-07T07:41:40.152636015Z",
     "start_time": "2023-07-07T07:41:40.145364846Z"
    }
   },
   "outputs": [
    {
     "name": "stdout",
     "output_type": "stream",
     "text": [
      "The function sleep_func(1) was executed for 1.0 seconds.\n",
      "1\n",
      "The function sleep_func(2) was executed for 2.0 seconds.\n",
      "2\n",
      "The function sleep_func(3) was executed for 3.0 seconds.\n",
      "3\n"
     ]
    }
   ],
   "source": [
    "# %load profile_time.py\n",
    "#!/usr/bin/env python\n",
    "\n",
    "\"\"\"Profile Time\n",
    "\n",
    "Project: TryPython\n",
    "A collection of educational materials for learning the Python\n",
    "\n",
    "Author: Alexander Krasnikov aka askras\n",
    "Website: trypython.pro\n",
    "\n",
    "License: BSD 3 clause\n",
    "\"\"\"\n",
    "\n",
    "import functools\n",
    "import timeit\n",
    "import typing\n",
    "\n",
    "\n",
    "def profile_time(\n",
    "    number: int = 1, setup: str = 'pass', ndigits: int = 3\n",
    ") -> typing.Callable:\n",
    "    \"\"\"Decorator for profiling the speed of the function (in seconds)\n",
    "\n",
    "    Parameters\n",
    "    ----------\n",
    "    number : int, default=1\n",
    "        Number of code repetitions.\n",
    "    setup : str, default='pass'\n",
    "        Code executed once before timing.\n",
    "    ndigits : int, default=3\n",
    "        Number of decimal places in the returned value.\n",
    "\n",
    "    Returns\n",
    "    -------\n",
    "    decorator: typing.Callable\n",
    "        Decorator for profiling the time of the function in seconds.\n",
    "\n",
    "    See Also\n",
    "    --------\n",
    "    timeit\n",
    "        Measure execution time of small code snippets.\n",
    "\n",
    "    References\n",
    "    ----------\n",
    "    [1] timeit documentation : https://docs.python.org/3/library/timeit.html\n",
    "\n",
    "    Examples\n",
    "    --------\n",
    "    Decorating an existing function:\n",
    "\n",
    "    >>> import time\n",
    "    >>> def sleep_func(n):\n",
    "    ...     time.sleep(n)\n",
    "    ...     return n\n",
    "    ...\n",
    "    >>> profile_time_sleep_func = profile_time()(sleep_func)\n",
    "    >>> profile_time_sleep_func(2)\n",
    "    The function sleep_func(2) was executed for 2.0 seconds.\n",
    "    2\n",
    "    >>> profile_time(number=5)(sleep_func)(4)\n",
    "    The function sleep_func(4) was executed for 4.0 seconds.\n",
    "    4\n",
    "\n",
    "    Profiling the running time of a function for different parameter values:\n",
    "\n",
    "    >>> import time\n",
    "    >>> def sleep_func(n):\n",
    "    ...     time.sleep(n)\n",
    "    ...     return n\n",
    "    ...\n",
    "    >>> for n in range(1,4):\n",
    "    ...    profile_time_sleep_func = profile_time(number=2)(sleep_func)\n",
    "    ...    print(profile_time_sleep_func(n))\n",
    "    The function sleep_func(1) was executed for 1.0 seconds.\n",
    "    1\n",
    "    The function sleep_func(2) was executed for 2.0 seconds.\n",
    "    2\n",
    "    The function sleep_func(3) was executed for 3.0 seconds.\n",
    "    3\n",
    "\n",
    "    Using the `setup` option:\n",
    "\n",
    "    >>> import time\n",
    "    >>> def sleep_func(n):\n",
    "    ...     time.sleep(n)\n",
    "    ...     return n\n",
    "    ...\n",
    "    >>> setup = 'print(\"Start setup\"); time.sleep(10); print(\"End setup\")'\n",
    "    >>> profile_time_sleep_func = profile_time(setup=setup)(sleep_func)\n",
    "    >>> print(profile_time_sleep_func(3))\n",
    "    Start setup\n",
    "    End setup\n",
    "    The function sleep_func(3) was executed for 3.0 seconds.\n",
    "    3\n",
    "\n",
    "    Decoding the generated function:\n",
    "\n",
    "    >>> import time\n",
    "    >>> @profile_time(number=2, setup='print(\"Start\");', ndigits=0)\n",
    "    ... def sleep_func(n):\n",
    "    ...    time.sleep(n)\n",
    "    ...    return n\n",
    "    ...\n",
    "    >>> sleep_func(3)\n",
    "    Start\n",
    "    The function sleep_func(3) was executed for 3.0 seconds.\n",
    "    3\n",
    "    \"\"\"\n",
    "\n",
    "    def decorator(func: typing.Callable) -> typing.Callable:\n",
    "        @functools.wraps(func)\n",
    "        def wrapper(*args, **kwargs) -> float:\n",
    "            usage_time = timeit.timeit(\n",
    "                lambda: func(*args, **kwargs),\n",
    "                setup=setup,\n",
    "                number=number,\n",
    "            )\n",
    "            usage_time = round(usage_time / number, ndigits)\n",
    "            # get func's params as string\n",
    "            position_args = [str(param) for param in args]\n",
    "            named_args = [f'{str(k)}={str(v)}' for k, v in kwargs.items()]\n",
    "            all_args = ', '.join(position_args + named_args)\n",
    "            print(\n",
    "                f'The function {func.__name__}({all_args})',\n",
    "                f'was executed for {usage_time} seconds.',\n",
    "            )\n",
    "            return func(*args, **kwargs)\n",
    "\n",
    "        return wrapper\n",
    "\n",
    "    return decorator\n",
    "\n",
    "\n",
    "if __name__ == '__main__':\n",
    "    import time\n",
    "\n",
    "    def sleep_func(n):\n",
    "        time.sleep(n)\n",
    "        return n\n",
    "\n",
    "    for i in range(1, 4):\n",
    "        time_sleep_func = profile_time(number=3)(sleep_func)\n",
    "        print(time_sleep_func(i))\n"
   ]
  },
  {
   "cell_type": "markdown",
   "id": "8f3fbaab",
   "metadata": {},
   "source": [
    "#### Пример использования"
   ]
  },
  {
   "cell_type": "code",
   "execution_count": 2,
   "id": "945e7708",
   "metadata": {},
   "outputs": [],
   "source": [
    "import random\n",
    "\n",
    "def my_func(n):\n",
    "    L = [random.randint(1, 1000) for _ in range(n)]\n",
    "    return sorted(L)"
   ]
  },
  {
   "cell_type": "code",
   "execution_count": 3,
   "id": "709e6925",
   "metadata": {},
   "outputs": [
    {
     "name": "stdout",
     "output_type": "stream",
     "text": [
      "The function my_func(10) was executed for 4e-05 seconds.\n",
      "The function my_func(100) was executed for 8e-05 seconds.\n",
      "The function my_func(1000) was executed for 0.00132 seconds.\n",
      "The function my_func(10000) was executed for 0.00991 seconds.\n",
      "The function my_func(100000) was executed for 0.06599 seconds.\n",
      "The function my_func(1000000) was executed for 0.58832 seconds.\n",
      "The function my_func(10000000) was executed for 5.93225 seconds.\n",
      "The function my_func(100000000) was executed for 62.83667 seconds.\n"
     ]
    }
   ],
   "source": [
    "# WARNING. It may take a few minutes.\n",
    "func = profile_time(ndigits=5)(my_func)\n",
    "for i in range(1, 9): # Replace 9 with a smaller number to speed up\n",
    "    func(10**i)"
   ]
  },
  {
   "cell_type": "markdown",
   "id": "4a760cc8",
   "metadata": {},
   "source": [
    "#### Исследование программы\n",
    "Попробуйте найти ответы на следующие вопросы. \n",
    "Поэкспериментируйте с изменениями кода и запустите программу снова, чтобы увидеть, как они повлияют на ее работу."
   ]
  },
  {
   "cell_type": "markdown",
   "id": "6c46a3d1",
   "metadata": {},
   "source": [
    "1. Модифицируйте декоратор для того чтобы получать значение времени в милисекундах (микросекундах).\n"
   ]
  },
  {
   "cell_type": "markdown",
   "id": "e1c71291",
   "metadata": {},
   "source": [
    "#### Ссылки\n",
    "\n",
    "1. Документация timeit: https://docs.python.org/3/library/timeit.html"
   ]
  }
 ],
 "metadata": {
  "kernelspec": {
   "display_name": "Python 3 (ipykernel)",
   "language": "python",
   "name": "python3"
  },
  "language_info": {
   "codemirror_mode": {
    "name": "ipython",
    "version": 3
   },
   "file_extension": ".py",
   "mimetype": "text/x-python",
   "name": "python",
   "nbconvert_exporter": "python",
   "pygments_lexer": "ipython3",
   "version": "3.11.3"
  }
 },
 "nbformat": 4,
 "nbformat_minor": 5
}
