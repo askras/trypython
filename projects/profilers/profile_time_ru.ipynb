{
 "cells": [
  {
   "cell_type": "markdown",
   "id": "7f220aca",
   "metadata": {},
   "source": [
    "### Profile Time: Профилирование времени работы функции"
   ]
  },
  {
   "cell_type": "markdown",
   "id": "64e2184d",
   "metadata": {},
   "source": [
    "Важным критерием оценки алгоритмов является время их работы.\n",
    "Для оценки времени работы функции можно использовать приведенный здесь декоратор."
   ]
  },
  {
   "cell_type": "code",
   "execution_count": null,
   "id": "c35180e8",
   "metadata": {},
   "outputs": [],
   "source": [
    "# %load -y -n -r 14:17 profile_time.py\n",
    "import functools\n",
    "import timeit\n",
    "import typing"
   ]
  },
  {
   "cell_type": "code",
   "execution_count": null,
   "id": "bff55a50",
   "metadata": {
    "ExecuteTime": {
     "end_time": "2023-07-07T07:41:40.152636015Z",
     "start_time": "2023-07-07T07:41:40.145364846Z"
    }
   },
   "outputs": [],
   "source": [
    "# %load -y -n -s profile_time profile_time.py\n",
    "def profile_time(\n",
    "    *,\n",
    "    number: int = 1,\n",
    "    setup: str = 'pass',\n",
    "    ndigits: int = 3,\n",
    "    output: str = '[{elapsed:0.{ndigits}f}s] {func_name}({func_args}) -> {func_result}',\n",
    ") -> typing.Callable:\n",
    "    \"\"\"Decorator for profiling the speed of the function (in seconds)\n",
    "\n",
    "    Parameters\n",
    "    ----------\n",
    "    number : int, optional\n",
    "        Number of code repetitions.\n",
    "    setup : str, optional\n",
    "        Code executed once before timing.\n",
    "    ndigits : int, optional\n",
    "        Number of decimal places in the returned value.\n",
    "    output : str, optional\n",
    "        The template of the displayed message\n",
    "\n",
    "    Returns\n",
    "    -------\n",
    "    decorator: typing.Callable\n",
    "        Decorator for profiling the time of the function in seconds.\n",
    "\n",
    "    See Also\n",
    "    --------\n",
    "    timeit\n",
    "        Measure execution time of small code snippets.\n",
    "\n",
    "    References\n",
    "    ----------\n",
    "    [1] timeit documentation : https://docs.python.org/3/library/timeit.html\n",
    "\n",
    "    Examples\n",
    "    --------\n",
    "    Decorating an existing function:\n",
    "\n",
    "    >>> import time\n",
    "    >>> def sleep_func(n):\n",
    "    ...     time.sleep(n)\n",
    "    ...     return n\n",
    "    ...\n",
    "    >>> profile_time_sleep_func = profile_time()(sleep_func)\n",
    "    >>> profile_time_sleep_func(2)\n",
    "    [2.000s] sleep_func(2) -> 2\n",
    "    2\n",
    "    >>> profile_time(number=5)(sleep_func)(4)\n",
    "    [4.000s] sleep_func(4) -> 4\n",
    "    4\n",
    "\n",
    "    Profiling the running time of a function for different parameter values:\n",
    "\n",
    "    >>> import time\n",
    "    >>> def sleep_func(n):\n",
    "    ...     time.sleep(n)\n",
    "    ...     return n\n",
    "    ...\n",
    "    >>> output_format = 'The function {func_name}({func_args}) was executed for {elapsed:0.{ndigits}} seconds.'\n",
    "    >>> for n in range(1,4):\n",
    "    ...    profile_time_sleep_func = profile_time(number=2, output=output_format)(sleep_func)\n",
    "    ...    profile_time_sleep_func(n)\n",
    "    The function sleep_func(1) was executed for 1.0 seconds.\n",
    "    1\n",
    "    The function sleep_func(2) was executed for 2.0 seconds.\n",
    "    2\n",
    "    The function sleep_func(3) was executed for 3.0 seconds.\n",
    "    3\n",
    "\n",
    "    Using the `setup` option:\n",
    "\n",
    "    >>> import time\n",
    "    >>> def sleep_func(n):\n",
    "    ...     time.sleep(n)\n",
    "    ...     return n\n",
    "    ...\n",
    "    >>> setup = 'print(\"Start setup\"); time.sleep(10); print(\"End setup\")'\n",
    "    >>> profile_time_sleep_func = profile_time(setup=setup)(sleep_func)\n",
    "    >>> profile_time_sleep_func(3)\n",
    "    Start setup\n",
    "    End setup\n",
    "    [3.000s] sleep_func(3) -> 3\n",
    "    3\n",
    "\n",
    "    Decoding the generated function:\n",
    "\n",
    "    >>> import time\n",
    "    >>> @profile_time(number=2, setup='print(\"Start\");', ndigits=0)\n",
    "    ... def sleep_func(n):\n",
    "    ...    time.sleep(n)\n",
    "    ...    return n\n",
    "    ...\n",
    "    >>> sleep_func(5)\n",
    "    Start\n",
    "    [5s] sleep_func(5) -> 5\n",
    "    5\n",
    "    \"\"\"\n",
    "\n",
    "    def decorator(func: typing.Callable) -> typing.Callable:\n",
    "        @functools.wraps(func)\n",
    "        def wrapper(*args, **kwargs) -> float:\n",
    "            usage_time = timeit.timeit(\n",
    "                lambda: func(*args, **kwargs),\n",
    "                setup=setup,\n",
    "                number=number,\n",
    "            )\n",
    "            elapsed = round(  # pylint: disable=possibly-unused-variable\n",
    "                usage_time / number, ndigits\n",
    "            )\n",
    "            # get func's params as string\n",
    "            position_args = [str(param) for param in args]\n",
    "            named_args = [f'{str(k)}={str(v)}' for k, v in kwargs.items()]\n",
    "            func_args = ', '.join(  # pylint: disable=possibly-unused-variable\n",
    "                position_args + named_args\n",
    "            )\n",
    "            func_name = func.__name__  # pylint: disable=possibly-unused-variable\n",
    "            func_return = func(*args, **kwargs)\n",
    "            func_result = repr(func_return)  # pylint: disable=possibly-unused-variable\n",
    "            print(output.format(**locals()))\n",
    "            return func_return\n",
    "\n",
    "        return wrapper\n",
    "\n",
    "    return decorator"
   ]
  },
  {
   "cell_type": "markdown",
   "id": "8f3fbaab",
   "metadata": {},
   "source": [
    "#### Пример использования"
   ]
  },
  {
   "cell_type": "code",
   "execution_count": null,
   "id": "945e7708",
   "metadata": {},
   "outputs": [],
   "source": [
    "import random\n",
    "\n",
    "\n",
    "def my_func(n):\n",
    "    L = [random.randint(1, 1000) for _ in range(n)]\n",
    "    return sum(sorted(L))"
   ]
  },
  {
   "cell_type": "code",
   "execution_count": null,
   "id": "709e6925",
   "metadata": {},
   "outputs": [],
   "source": [
    "# WARNING. It may take a few minutes.\n",
    "func = profile_time(ndigits=5)(my_func)\n",
    "for i in range(1, 9):  # Replace 9 with a smaller number to speed up\n",
    "    func(10**i)"
   ]
  },
  {
   "cell_type": "markdown",
   "id": "4a760cc8",
   "metadata": {},
   "source": [
    "#### Исследование программы\n",
    "Попробуйте найти ответы на следующие вопросы.\n",
    "Поэкспериментируйте с изменениями кода и запустите программу снова, чтобы увидеть, как они повлияют на ее работу."
   ]
  },
  {
   "cell_type": "markdown",
   "id": "6c46a3d1",
   "metadata": {},
   "source": [
    "1. Модифицируйте декоратор для того чтобы получать значение времени в милисекундах (микросекундах).\n"
   ]
  },
  {
   "cell_type": "markdown",
   "id": "e1c71291",
   "metadata": {},
   "source": [
    "#### Ссылки\n",
    "\n",
    "1. Документация timeit: https://docs.python.org/3/library/timeit.html"
   ]
  }
 ],
 "metadata": {
  "kernelspec": {
   "display_name": "Python 3 (ipykernel)",
   "language": "python",
   "name": "python3"
  },
  "language_info": {
   "codemirror_mode": {
    "name": "ipython",
    "version": 3
   },
   "file_extension": ".py",
   "mimetype": "text/x-python",
   "name": "python",
   "nbconvert_exporter": "python",
   "pygments_lexer": "ipython3",
   "version": "3.11.3"
  }
 },
 "nbformat": 4,
 "nbformat_minor": 5
}
